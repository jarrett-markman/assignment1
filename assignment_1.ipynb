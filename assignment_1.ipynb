{
 "cells": [
  {
   "cell_type": "markdown",
   "id": "87b91d83",
   "metadata": {},
   "source": [
    "# Assignment 1\n",
    "### Understanding Uncertainty\n",
    "### Due 9/5"
   ]
  },
  {
   "cell_type": "markdown",
   "id": "380e339f",
   "metadata": {},
   "source": [
    "1. Create a new public repo on Github under your account. Include a readme file.\n",
    "2. Clone it to your machine. Put this file into that repo.\n",
    "3. Use the following function to download the example data for the course:"
   ]
  },
  {
   "cell_type": "code",
   "execution_count": 1,
   "id": "2d62b4f6",
   "metadata": {},
   "outputs": [
    {
     "name": "stdout",
     "output_type": "stream",
     "text": [
      "Downloading course data\n",
      "Download complete\n",
      "Extracting data files...\n",
      "Data extracted\n"
     ]
    }
   ],
   "source": [
    "def download_data(force=False):\n",
    "    \"\"\"Download and extract course data from Zenodo.\"\"\"\n",
    "    import urllib.request, zipfile, os\n",
    "    \n",
    "    zip_path = 'data.zip'\n",
    "    data_dir = 'data'\n",
    "    \n",
    "    if not os.path.exists(zip_path) or force:\n",
    "        print(\"Downloading course data\")\n",
    "        urllib.request.urlretrieve(\n",
    "            'https://zenodo.org/records/16954427/files/data.zip?download=1',\n",
    "            zip_path\n",
    "        )\n",
    "        print(\"Download complete\")\n",
    "    else:\n",
    "        print(\"Download file already exists\")\n",
    "        \n",
    "    if not os.path.exists(data_dir) or force:\n",
    "        print(\"Extracting data files...\")\n",
    "        with zipfile.ZipFile(zip_path, 'r') as zip_ref:\n",
    "            zip_ref.extractall(data_dir)\n",
    "        print(\"Data extracted\")\n",
    "    else:\n",
    "        print(\"Data directory already exists\")\n",
    "\n",
    "download_data()"
   ]
  },
  {
   "cell_type": "markdown",
   "id": "01db0045",
   "metadata": {},
   "source": [
    "4. Open one of the datasets using Pandas:\n",
    "    1. `ames_prices.csv`: Housing characteristics and prices\n",
    "    2. `college_completion.csv`: Public, nonprofit, and for-profit educational institutions, graduation rates, and financial aid\n",
    "    3. `ForeignGifts_edu.csv`: Monetary and in-kind transfers from foreign entities to U.S. educational institutions\n",
    "    4. `iowa.csv`: Liquor sales in Iowa, at the transaction level\n",
    "    5. `metabric.csv`: Cancer patient and outcome data\n",
    "    6. `mn_police_use_of_force.csv`: Records of physical altercations between Minnessota police and private citizens\n",
    "    7. `nhanes_data_17_18.csv`: National Health and Nutrition Examination Survey\n",
    "    8. `tuna.csv`: Yellowfin Tuna Genome (I don't recommend this one; it's just a sequence of G, C, A, T )\n",
    "    9. `va_procurement.csv`: Public spending by the state of Virginia"
   ]
  },
  {
   "cell_type": "code",
   "execution_count": 2,
   "id": "9926db99",
   "metadata": {},
   "outputs": [],
   "source": [
    "# Import packages\n",
    "import pandas as pd\n",
    "import numpy as np\n",
    "# Read in data\n",
    "data = pd.read_csv(\"data/mn_police_use_of_force.csv\")"
   ]
  },
  {
   "cell_type": "markdown",
   "id": "fa5cade1",
   "metadata": {},
   "source": [
    "5. Pick two or three variables and briefly analyze them\n",
    "    - Is it a categorical or numeric variable?\n",
    "    - How many missing values are there? (`df['var'].isna()` and `np.sum()`)\n",
    "    - If categorical, tabulate the values (`df['var'].value_counts()`) and if numeric, get a summary (`df['var'].describe()`)"
   ]
  },
  {
   "cell_type": "code",
   "execution_count": 3,
   "id": "99e74a96",
   "metadata": {},
   "outputs": [
    {
     "data": {
      "text/html": [
       "<div>\n",
       "<style scoped>\n",
       "    .dataframe tbody tr th:only-of-type {\n",
       "        vertical-align: middle;\n",
       "    }\n",
       "\n",
       "    .dataframe tbody tr th {\n",
       "        vertical-align: top;\n",
       "    }\n",
       "\n",
       "    .dataframe thead th {\n",
       "        text-align: right;\n",
       "    }\n",
       "</style>\n",
       "<table border=\"1\" class=\"dataframe\">\n",
       "  <thead>\n",
       "    <tr style=\"text-align: right;\">\n",
       "      <th></th>\n",
       "      <th>response_datetime</th>\n",
       "      <th>problem</th>\n",
       "      <th>is_911_call</th>\n",
       "      <th>primary_offense</th>\n",
       "      <th>subject_injury</th>\n",
       "      <th>force_type</th>\n",
       "      <th>force_type_action</th>\n",
       "      <th>race</th>\n",
       "      <th>sex</th>\n",
       "      <th>age</th>\n",
       "      <th>type_resistance</th>\n",
       "      <th>precinct</th>\n",
       "      <th>neighborhood</th>\n",
       "    </tr>\n",
       "  </thead>\n",
       "  <tbody>\n",
       "    <tr>\n",
       "      <th>0</th>\n",
       "      <td>2016/01/01 00:47:36</td>\n",
       "      <td>Assault in Progress</td>\n",
       "      <td>Yes</td>\n",
       "      <td>DASLT1</td>\n",
       "      <td>NaN</td>\n",
       "      <td>Bodily Force</td>\n",
       "      <td>Body Weight to Pin</td>\n",
       "      <td>Black</td>\n",
       "      <td>Male</td>\n",
       "      <td>20.0</td>\n",
       "      <td>Tensed</td>\n",
       "      <td>1</td>\n",
       "      <td>Downtown East</td>\n",
       "    </tr>\n",
       "    <tr>\n",
       "      <th>1</th>\n",
       "      <td>2016/01/01 02:19:34</td>\n",
       "      <td>Fight</td>\n",
       "      <td>No</td>\n",
       "      <td>DISCON</td>\n",
       "      <td>NaN</td>\n",
       "      <td>Chemical Irritant</td>\n",
       "      <td>Personal Mace</td>\n",
       "      <td>Black</td>\n",
       "      <td>Female</td>\n",
       "      <td>27.0</td>\n",
       "      <td>Verbal Non-Compliance</td>\n",
       "      <td>1</td>\n",
       "      <td>Downtown West</td>\n",
       "    </tr>\n",
       "    <tr>\n",
       "      <th>2</th>\n",
       "      <td>2016/01/01 02:19:34</td>\n",
       "      <td>Fight</td>\n",
       "      <td>No</td>\n",
       "      <td>DISCON</td>\n",
       "      <td>NaN</td>\n",
       "      <td>Chemical Irritant</td>\n",
       "      <td>Personal Mace</td>\n",
       "      <td>White</td>\n",
       "      <td>Female</td>\n",
       "      <td>23.0</td>\n",
       "      <td>Verbal Non-Compliance</td>\n",
       "      <td>1</td>\n",
       "      <td>Downtown West</td>\n",
       "    </tr>\n",
       "    <tr>\n",
       "      <th>3</th>\n",
       "      <td>2016/01/01 02:28:48</td>\n",
       "      <td>Fight</td>\n",
       "      <td>No</td>\n",
       "      <td>PRIORI</td>\n",
       "      <td>NaN</td>\n",
       "      <td>Chemical Irritant</td>\n",
       "      <td>Crowd Control Mace</td>\n",
       "      <td>Black</td>\n",
       "      <td>Male</td>\n",
       "      <td>20.0</td>\n",
       "      <td>Commission of Crime</td>\n",
       "      <td>1</td>\n",
       "      <td>Downtown West</td>\n",
       "    </tr>\n",
       "    <tr>\n",
       "      <th>4</th>\n",
       "      <td>2016/01/01 02:28:48</td>\n",
       "      <td>Fight</td>\n",
       "      <td>No</td>\n",
       "      <td>PRIORI</td>\n",
       "      <td>NaN</td>\n",
       "      <td>Chemical Irritant</td>\n",
       "      <td>Crowd Control Mace</td>\n",
       "      <td>Black</td>\n",
       "      <td>Male</td>\n",
       "      <td>20.0</td>\n",
       "      <td>Commission of Crime</td>\n",
       "      <td>1</td>\n",
       "      <td>Downtown West</td>\n",
       "    </tr>\n",
       "    <tr>\n",
       "      <th>...</th>\n",
       "      <td>...</td>\n",
       "      <td>...</td>\n",
       "      <td>...</td>\n",
       "      <td>...</td>\n",
       "      <td>...</td>\n",
       "      <td>...</td>\n",
       "      <td>...</td>\n",
       "      <td>...</td>\n",
       "      <td>...</td>\n",
       "      <td>...</td>\n",
       "      <td>...</td>\n",
       "      <td>...</td>\n",
       "      <td>...</td>\n",
       "    </tr>\n",
       "    <tr>\n",
       "      <th>12920</th>\n",
       "      <td>2021/08/30 21:38:46</td>\n",
       "      <td>Assault in Progress</td>\n",
       "      <td>Yes</td>\n",
       "      <td>ASLT5</td>\n",
       "      <td>NaN</td>\n",
       "      <td>Bodily Force</td>\n",
       "      <td>Joint Lock</td>\n",
       "      <td>White</td>\n",
       "      <td>Female</td>\n",
       "      <td>69.0</td>\n",
       "      <td>NaN</td>\n",
       "      <td>1</td>\n",
       "      <td>Loring Park</td>\n",
       "    </tr>\n",
       "    <tr>\n",
       "      <th>12921</th>\n",
       "      <td>2021/08/30 22:32:22</td>\n",
       "      <td>Unwanted Person</td>\n",
       "      <td>Yes</td>\n",
       "      <td>CIC</td>\n",
       "      <td>NaN</td>\n",
       "      <td>Bodily Force</td>\n",
       "      <td>Joint Lock</td>\n",
       "      <td>NaN</td>\n",
       "      <td>NaN</td>\n",
       "      <td>NaN</td>\n",
       "      <td>NaN</td>\n",
       "      <td>1</td>\n",
       "      <td>Cedar Riverside</td>\n",
       "    </tr>\n",
       "    <tr>\n",
       "      <th>12922</th>\n",
       "      <td>2021/08/31 12:03:08</td>\n",
       "      <td>Overdose w/All</td>\n",
       "      <td>Yes</td>\n",
       "      <td>FORCE</td>\n",
       "      <td>NaN</td>\n",
       "      <td>Bodily Force</td>\n",
       "      <td>Body Weight Pin</td>\n",
       "      <td>Black</td>\n",
       "      <td>Male</td>\n",
       "      <td>NaN</td>\n",
       "      <td>NaN</td>\n",
       "      <td>3</td>\n",
       "      <td>Seward</td>\n",
       "    </tr>\n",
       "    <tr>\n",
       "      <th>12923</th>\n",
       "      <td>2021/08/31 12:52:52</td>\n",
       "      <td>Attempt Pick-Up</td>\n",
       "      <td>No</td>\n",
       "      <td>WT</td>\n",
       "      <td>NaN</td>\n",
       "      <td>Bodily Force</td>\n",
       "      <td>Body Weight Pin</td>\n",
       "      <td>Black</td>\n",
       "      <td>Male</td>\n",
       "      <td>31.0</td>\n",
       "      <td>NaN</td>\n",
       "      <td>4</td>\n",
       "      <td>Camden Industrial</td>\n",
       "    </tr>\n",
       "    <tr>\n",
       "      <th>12924</th>\n",
       "      <td>2021/08/31 21:34:29</td>\n",
       "      <td>Unwanted Person</td>\n",
       "      <td>No</td>\n",
       "      <td>FORCE</td>\n",
       "      <td>NaN</td>\n",
       "      <td>Bodily Force</td>\n",
       "      <td>Push Away</td>\n",
       "      <td>White</td>\n",
       "      <td>Male</td>\n",
       "      <td>NaN</td>\n",
       "      <td>X</td>\n",
       "      <td>1</td>\n",
       "      <td>North Loop</td>\n",
       "    </tr>\n",
       "  </tbody>\n",
       "</table>\n",
       "<p>12925 rows × 13 columns</p>\n",
       "</div>"
      ],
      "text/plain": [
       "         response_datetime               problem is_911_call primary_offense  \\\n",
       "0      2016/01/01 00:47:36  Assault in Progress          Yes          DASLT1   \n",
       "1      2016/01/01 02:19:34                Fight           No          DISCON   \n",
       "2      2016/01/01 02:19:34                Fight           No          DISCON   \n",
       "3      2016/01/01 02:28:48                Fight           No          PRIORI   \n",
       "4      2016/01/01 02:28:48                Fight           No          PRIORI   \n",
       "...                    ...                   ...         ...             ...   \n",
       "12920  2021/08/30 21:38:46  Assault in Progress          Yes        ASLT5      \n",
       "12921  2021/08/30 22:32:22      Unwanted Person          Yes        CIC        \n",
       "12922  2021/08/31 12:03:08       Overdose w/All          Yes        FORCE      \n",
       "12923  2021/08/31 12:52:52      Attempt Pick-Up           No        WT         \n",
       "12924  2021/08/31 21:34:29      Unwanted Person           No        FORCE      \n",
       "\n",
       "      subject_injury         force_type   force_type_action   race     sex  \\\n",
       "0                NaN       Bodily Force  Body Weight to Pin  Black    Male   \n",
       "1                NaN  Chemical Irritant       Personal Mace  Black  Female   \n",
       "2                NaN  Chemical Irritant       Personal Mace  White  Female   \n",
       "3                NaN  Chemical Irritant  Crowd Control Mace  Black    Male   \n",
       "4                NaN  Chemical Irritant  Crowd Control Mace  Black    Male   \n",
       "...              ...                ...                 ...    ...     ...   \n",
       "12920            NaN       Bodily Force          Joint Lock  White  Female   \n",
       "12921            NaN       Bodily Force          Joint Lock    NaN     NaN   \n",
       "12922            NaN       Bodily Force     Body Weight Pin  Black    Male   \n",
       "12923            NaN       Bodily Force     Body Weight Pin  Black    Male   \n",
       "12924            NaN       Bodily Force           Push Away  White    Male   \n",
       "\n",
       "        age        type_resistance  precinct       neighborhood  \n",
       "0      20.0                 Tensed         1      Downtown East  \n",
       "1      27.0  Verbal Non-Compliance         1      Downtown West  \n",
       "2      23.0  Verbal Non-Compliance         1      Downtown West  \n",
       "3      20.0    Commission of Crime         1      Downtown West  \n",
       "4      20.0    Commission of Crime         1      Downtown West  \n",
       "...     ...                    ...       ...                ...  \n",
       "12920  69.0                    NaN         1        Loring Park  \n",
       "12921   NaN                    NaN         1    Cedar Riverside  \n",
       "12922   NaN                    NaN         3             Seward  \n",
       "12923  31.0                    NaN         4  Camden Industrial  \n",
       "12924   NaN                      X         1         North Loop  \n",
       "\n",
       "[12925 rows x 13 columns]"
      ]
     },
     "execution_count": 3,
     "metadata": {},
     "output_type": "execute_result"
    }
   ],
   "source": [
    "# Display data to get a sense of the data \n",
    "data"
   ]
  },
  {
   "cell_type": "markdown",
   "id": "598dfc44",
   "metadata": {},
   "source": [
    "Variables to investigate: **race**, **age**, **neighborhood**. \n",
    "\n",
    "**Race** is a categorical variable that displays the race of the victim of the officer's force.\n",
    "\n",
    "**Age** is a numerical variable that represents the age of the victim. \n",
    "\n",
    "**Neighborhood** is a categorical variable that contains the Minnesota neighborhood where the event occurred. "
   ]
  },
  {
   "cell_type": "code",
   "execution_count": 4,
   "id": "b9dd787f",
   "metadata": {},
   "outputs": [
    {
     "name": "stdout",
     "output_type": "stream",
     "text": [
      "There are 1024 missing values in the race column.\n",
      "There are 1066 missing values in the age column.\n",
      "There are 4 missing values in the neighborhood column.\n"
     ]
    }
   ],
   "source": [
    "# race\n",
    "race_nas = data['race'].isna().sum()\n",
    "# age\n",
    "age_nas = data['age'].isna().sum()\n",
    "# neighborhood\n",
    "neighborhood_nas = data['neighborhood'].isna().sum()\n",
    "# Print all\n",
    "print(f\"There are {race_nas} missing values in the race column.\")\n",
    "print(f\"There are {age_nas} missing values in the age column.\")\n",
    "print(f\"There are {neighborhood_nas} missing values in the neighborhood column.\")"
   ]
  },
  {
   "cell_type": "code",
   "execution_count": 5,
   "id": "5ad24885",
   "metadata": {},
   "outputs": [
    {
     "data": {
      "text/plain": [
       "(race\n",
       " Black                 7648\n",
       " White                 3129\n",
       " Native American        784\n",
       " Other / Mixed Race     205\n",
       " Asian                  129\n",
       " Pacific Islander         6\n",
       " Name: count, dtype: int64,\n",
       " race\n",
       " Black                 0.642635\n",
       " White                 0.262919\n",
       " Native American       0.065877\n",
       " Other / Mixed Race    0.017225\n",
       " Asian                 0.010839\n",
       " Pacific Islander      0.000504\n",
       " Name: proportion, dtype: float64)"
      ]
     },
     "execution_count": 5,
     "metadata": {},
     "output_type": "execute_result"
    }
   ],
   "source": [
    "data['race'].value_counts(), data['race'].value_counts(normalize=True)\n",
    "# Set normalize param. = True to see percentages as well"
   ]
  },
  {
   "cell_type": "markdown",
   "id": "af53fd07",
   "metadata": {},
   "source": [
    "There is a much higher percentage of police force used on black people than of any other race, despite there only being a 7% population of black people in the state (via [Minnesota.gov in 2022](https://mn.gov/deed/newscenter/publications/trends/september-2022/disparities.jsp)), this might be indicative of potential racial biases in policing."
   ]
  },
  {
   "cell_type": "code",
   "execution_count": 6,
   "id": "eb67bc7c",
   "metadata": {},
   "outputs": [
    {
     "data": {
      "text/plain": [
       "count    11859.000000\n",
       "mean        29.484527\n",
       "std         10.987780\n",
       "min          0.000000\n",
       "25%         22.000000\n",
       "50%         28.000000\n",
       "75%         35.000000\n",
       "max         82.000000\n",
       "Name: age, dtype: float64"
      ]
     },
     "execution_count": 6,
     "metadata": {},
     "output_type": "execute_result"
    }
   ],
   "source": [
    "data['age'].describe()"
   ]
  },
  {
   "cell_type": "markdown",
   "id": "020a3390",
   "metadata": {},
   "source": [
    "Based on the distributions of ages, it appears that a lot of these interactions are occurring with people in the 20-40 age range, with a mean of ~29.5, median of 28, and the first and third quartiles being from age 22 to 35. "
   ]
  },
  {
   "cell_type": "code",
   "execution_count": 7,
   "id": "8ab0c2ea",
   "metadata": {},
   "outputs": [
    {
     "data": {
      "text/plain": [
       "(neighborhood\n",
       " Downtown West           2928\n",
       " Near - North             562\n",
       " Lowry Hill East          554\n",
       " Hawthorne                502\n",
       " Jordan                   479\n",
       "                         ... \n",
       " Cedar - Isles - Dean       6\n",
       " Page                       5\n",
       " Camden Industrial          3\n",
       " Hale                       2\n",
       " Kenny                      1\n",
       " Name: count, Length: 86, dtype: int64,\n",
       " neighborhood\n",
       " Downtown West           0.226608\n",
       " Near - North            0.043495\n",
       " Lowry Hill East         0.042876\n",
       " Hawthorne               0.038851\n",
       " Jordan                  0.037071\n",
       "                           ...   \n",
       " Cedar - Isles - Dean    0.000464\n",
       " Page                    0.000387\n",
       " Camden Industrial       0.000232\n",
       " Hale                    0.000155\n",
       " Kenny                   0.000077\n",
       " Name: proportion, Length: 86, dtype: float64)"
      ]
     },
     "execution_count": 7,
     "metadata": {},
     "output_type": "execute_result"
    }
   ],
   "source": [
    "data['neighborhood'].value_counts(), data['neighborhood'].value_counts(normalize=True) \n",
    "# Set normalize param. = True to see percentages as well"
   ]
  },
  {
   "cell_type": "markdown",
   "id": "243dfbc2",
   "metadata": {},
   "source": [
    "There are a majority of police instances occurring in the Downtown West neighborhood (over 20%). This could be an indicator for overpolicing, as the population of Downtown West was listed at under 9000 people ([2020 U.S. Census](https://www.census.gov/)). It's additionally possible that there are just many crimes committed in the area. "
   ]
  },
  {
   "cell_type": "markdown",
   "id": "dbf2318a",
   "metadata": {},
   "source": [
    "6. What are some questions and prediction tools you could create using these data? Who would the stakeholder be for that prediction tool? What practical or ethical questions would it create? What other data would you want, that are not available in your data?"
   ]
  },
  {
   "cell_type": "markdown",
   "id": "d1b84fe5",
   "metadata": {},
   "source": [
    "There are a lot of ethical concerns surrounding this data, as it deals with extremely sensitive information. Such as demographic data, as well as the nature of the dataset being instances of police force. This data could mainly be used by the Minnesota police force, as well as various social justice organizations, to better inform policing habits. This data could be used to predict various polices responses to certain events (such as classification), as well as investigate difference questions and potential concerns regarding policing habits. Such as: has there been overpolicing of certain neighborhoods? Races? Genders? Or how certain actions of force have occurred and the surrounding features for why certain things occurred. It could additionally be helpful to have information like time to arrive or the specific officer that made the offense. This can be used to better police by increasing efficiency or by removing habits, practices or officers that have been producing harmful results.  "
   ]
  },
  {
   "cell_type": "markdown",
   "id": "a4a7ddc7",
   "metadata": {},
   "source": [
    "7. Commit your work to the repo (`git commit -am 'Finish assignment'` at the command line, or use the Git panel in VS Code). Push your work back to Github and submit the link on Canvas in the assignment tab."
   ]
  }
 ],
 "metadata": {
  "kernelspec": {
   "display_name": "base",
   "language": "python",
   "name": "python3"
  },
  "language_info": {
   "codemirror_mode": {
    "name": "ipython",
    "version": 3
   },
   "file_extension": ".py",
   "mimetype": "text/x-python",
   "name": "python",
   "nbconvert_exporter": "python",
   "pygments_lexer": "ipython3",
   "version": "3.13.5"
  }
 },
 "nbformat": 4,
 "nbformat_minor": 5
}
